{
 "cells": [
  {
   "cell_type": "markdown",
   "id": "d40a464f",
   "metadata": {},
   "source": [
    "## Data in Hand\n",
    "\n",
    "For my project I am going to be comparing the growth rate of the top 5 largest counties in Pennsylvania versus the 5 smallest counties based off of the total square miles of each county. I will be using the two data sets below where the first data set shows the growth rate and population of each county, and the second data set shows the total square miles of each county. I plan on doing this by using the matplotlib program to visualize and compare the 10 counties to get a better understanding and hopefully a clear answer to my initial question. I think this question is a viable one to ask because I wonder if counties with a larger total square miles will end up growing in population faster than the ones with less total square miles. Some people may think that smaller counties will not grow as fast due to the lack of space, and the larger counties will grow faster due to the abundance of space."
   ]
  },
  {
   "cell_type": "code",
   "execution_count": 1,
   "id": "27dedb26",
   "metadata": {},
   "outputs": [],
   "source": [
    "import pandas as pd\n",
    "import json\n",
    "from matplotlib import pyplot as plt\n",
    "from scipy import stats"
   ]
  },
  {
   "cell_type": "code",
   "execution_count": 2,
   "id": "bebbdd09",
   "metadata": {},
   "outputs": [],
   "source": [
    "County_population = pd.read_csv('/Users/coreyheim/Downloads/Counties.csv')"
   ]
  },
  {
   "cell_type": "markdown",
   "id": "799ae246",
   "metadata": {},
   "source": [
    "## First Data Set\n",
    "This first data set shows the growth rate and population of each county in the state of Pennsylvania. This will be compared to the next data set which is shown below. This data is from https://worldpopulationreview.com/us-counties/states/pa"
   ]
  },
  {
   "cell_type": "code",
   "execution_count": 3,
   "id": "0cc94981",
   "metadata": {
    "scrolled": true
   },
   "outputs": [
    {
     "data": {
      "text/html": [
       "<div>\n",
       "<style scoped>\n",
       "    .dataframe tbody tr th:only-of-type {\n",
       "        vertical-align: middle;\n",
       "    }\n",
       "\n",
       "    .dataframe tbody tr th {\n",
       "        vertical-align: top;\n",
       "    }\n",
       "\n",
       "    .dataframe thead th {\n",
       "        text-align: right;\n",
       "    }\n",
       "</style>\n",
       "<table border=\"1\" class=\"dataframe\">\n",
       "  <thead>\n",
       "    <tr style=\"text-align: right;\">\n",
       "      <th></th>\n",
       "      <th>CTYNAME</th>\n",
       "      <th>pop2021</th>\n",
       "      <th>GrowthRate</th>\n",
       "      <th>popDensity</th>\n",
       "    </tr>\n",
       "  </thead>\n",
       "  <tbody>\n",
       "    <tr>\n",
       "      <th>0</th>\n",
       "      <td>Philadelphia County</td>\n",
       "      <td>1585010</td>\n",
       "      <td>3.7120</td>\n",
       "      <td>1784.9531</td>\n",
       "    </tr>\n",
       "    <tr>\n",
       "      <th>1</th>\n",
       "      <td>Allegheny County</td>\n",
       "      <td>1213570</td>\n",
       "      <td>-0.8489</td>\n",
       "      <td>1366.6573</td>\n",
       "    </tr>\n",
       "    <tr>\n",
       "      <th>2</th>\n",
       "      <td>Montgomery County</td>\n",
       "      <td>838897</td>\n",
       "      <td>4.7477</td>\n",
       "      <td>944.7207</td>\n",
       "    </tr>\n",
       "    <tr>\n",
       "      <th>3</th>\n",
       "      <td>Bucks County</td>\n",
       "      <td>629186</td>\n",
       "      <td>0.6078</td>\n",
       "      <td>708.5555</td>\n",
       "    </tr>\n",
       "    <tr>\n",
       "      <th>4</th>\n",
       "      <td>Delaware County</td>\n",
       "      <td>569779</td>\n",
       "      <td>1.9317</td>\n",
       "      <td>641.6545</td>\n",
       "    </tr>\n",
       "    <tr>\n",
       "      <th>...</th>\n",
       "      <td>...</td>\n",
       "      <td>...</td>\n",
       "      <td>...</td>\n",
       "      <td>...</td>\n",
       "    </tr>\n",
       "    <tr>\n",
       "      <th>62</th>\n",
       "      <td>Potter County</td>\n",
       "      <td>16332</td>\n",
       "      <td>-6.4283</td>\n",
       "      <td>18.3922</td>\n",
       "    </tr>\n",
       "    <tr>\n",
       "      <th>63</th>\n",
       "      <td>Fulton County</td>\n",
       "      <td>14540</td>\n",
       "      <td>-2.1666</td>\n",
       "      <td>16.3742</td>\n",
       "    </tr>\n",
       "    <tr>\n",
       "      <th>64</th>\n",
       "      <td>Forest County</td>\n",
       "      <td>7173</td>\n",
       "      <td>-6.9167</td>\n",
       "      <td>8.0778</td>\n",
       "    </tr>\n",
       "    <tr>\n",
       "      <th>65</th>\n",
       "      <td>Sullivan County</td>\n",
       "      <td>6046</td>\n",
       "      <td>-5.6345</td>\n",
       "      <td>6.8087</td>\n",
       "    </tr>\n",
       "    <tr>\n",
       "      <th>66</th>\n",
       "      <td>Cameron County</td>\n",
       "      <td>4339</td>\n",
       "      <td>-14.6034</td>\n",
       "      <td>4.8863</td>\n",
       "    </tr>\n",
       "  </tbody>\n",
       "</table>\n",
       "<p>67 rows × 4 columns</p>\n",
       "</div>"
      ],
      "text/plain": [
       "                CTYNAME  pop2021  GrowthRate  popDensity\n",
       "0   Philadelphia County  1585010      3.7120   1784.9531\n",
       "1      Allegheny County  1213570     -0.8489   1366.6573\n",
       "2     Montgomery County   838897      4.7477    944.7207\n",
       "3          Bucks County   629186      0.6078    708.5555\n",
       "4       Delaware County   569779      1.9317    641.6545\n",
       "..                  ...      ...         ...         ...\n",
       "62        Potter County    16332     -6.4283     18.3922\n",
       "63        Fulton County    14540     -2.1666     16.3742\n",
       "64        Forest County     7173     -6.9167      8.0778\n",
       "65      Sullivan County     6046     -5.6345      6.8087\n",
       "66       Cameron County     4339    -14.6034      4.8863\n",
       "\n",
       "[67 rows x 4 columns]"
      ]
     },
     "execution_count": 3,
     "metadata": {},
     "output_type": "execute_result"
    }
   ],
   "source": [
    "County_population.head(67)"
   ]
  },
  {
   "cell_type": "code",
   "execution_count": 17,
   "id": "47786f7f",
   "metadata": {},
   "outputs": [],
   "source": [
    "County_land = pd.read_csv('/Users/coreyheim/Desktop/County Land.csv')"
   ]
  },
  {
   "cell_type": "markdown",
   "id": "78d6d6d0",
   "metadata": {},
   "source": [
    "## Second Data Set\n",
    "The second data set I will be using shows the list of counties in order by most land area to the least amount of land area. Again, this will be used to compare to the growth of population seen in the first data set. This data is from http://www.usa.com/rank/pennsylvania-state--land-area--county-rank.htm"
   ]
  },
  {
   "cell_type": "code",
   "execution_count": 18,
   "id": "9c786975",
   "metadata": {},
   "outputs": [
    {
     "data": {
      "text/html": [
       "<div>\n",
       "<style scoped>\n",
       "    .dataframe tbody tr th:only-of-type {\n",
       "        vertical-align: middle;\n",
       "    }\n",
       "\n",
       "    .dataframe tbody tr th {\n",
       "        vertical-align: top;\n",
       "    }\n",
       "\n",
       "    .dataframe thead th {\n",
       "        text-align: right;\n",
       "    }\n",
       "</style>\n",
       "<table border=\"1\" class=\"dataframe\">\n",
       "  <thead>\n",
       "    <tr style=\"text-align: right;\">\n",
       "      <th></th>\n",
       "      <th>Rank</th>\n",
       "      <th>Land Area</th>\n",
       "      <th>County</th>\n",
       "    </tr>\n",
       "  </thead>\n",
       "  <tbody>\n",
       "    <tr>\n",
       "      <th>0</th>\n",
       "      <td>1.0</td>\n",
       "      <td>1,228.59</td>\n",
       "      <td>Lycoming</td>\n",
       "    </tr>\n",
       "    <tr>\n",
       "      <th>1</th>\n",
       "      <td>2.0</td>\n",
       "      <td>1,147.40</td>\n",
       "      <td>Bradford</td>\n",
       "    </tr>\n",
       "    <tr>\n",
       "      <th>2</th>\n",
       "      <td>3.0</td>\n",
       "      <td>1,144.72</td>\n",
       "      <td>Clearfield</td>\n",
       "    </tr>\n",
       "    <tr>\n",
       "      <th>3</th>\n",
       "      <td>4.0</td>\n",
       "      <td>1,133.79</td>\n",
       "      <td>Tioga</td>\n",
       "    </tr>\n",
       "    <tr>\n",
       "      <th>4</th>\n",
       "      <td>5.0</td>\n",
       "      <td>1,109.92</td>\n",
       "      <td>Centre</td>\n",
       "    </tr>\n",
       "    <tr>\n",
       "      <th>...</th>\n",
       "      <td>...</td>\n",
       "      <td>...</td>\n",
       "      <td>...</td>\n",
       "    </tr>\n",
       "    <tr>\n",
       "      <th>62</th>\n",
       "      <td>63.0</td>\n",
       "      <td>328.71</td>\n",
       "      <td>Snyder</td>\n",
       "    </tr>\n",
       "    <tr>\n",
       "      <th>63</th>\n",
       "      <td>64.0</td>\n",
       "      <td>315.98</td>\n",
       "      <td>Union</td>\n",
       "    </tr>\n",
       "    <tr>\n",
       "      <th>64</th>\n",
       "      <td>65.0</td>\n",
       "      <td>183.84</td>\n",
       "      <td>Delaware</td>\n",
       "    </tr>\n",
       "    <tr>\n",
       "      <th>65</th>\n",
       "      <td>66.0</td>\n",
       "      <td>134.1</td>\n",
       "      <td>Philadelphia</td>\n",
       "    </tr>\n",
       "    <tr>\n",
       "      <th>66</th>\n",
       "      <td>67.0</td>\n",
       "      <td>130.24</td>\n",
       "      <td>Montour</td>\n",
       "    </tr>\n",
       "  </tbody>\n",
       "</table>\n",
       "<p>67 rows × 3 columns</p>\n",
       "</div>"
      ],
      "text/plain": [
       "    Rank Land Area        County\n",
       "0    1.0  1,228.59      Lycoming\n",
       "1    2.0  1,147.40      Bradford\n",
       "2    3.0  1,144.72    Clearfield\n",
       "3    4.0  1,133.79         Tioga\n",
       "4    5.0  1,109.92        Centre\n",
       "..   ...       ...           ...\n",
       "62  63.0    328.71        Snyder\n",
       "63  64.0    315.98         Union\n",
       "64  65.0    183.84      Delaware\n",
       "65  66.0     134.1  Philadelphia\n",
       "66  67.0    130.24       Montour\n",
       "\n",
       "[67 rows x 3 columns]"
      ]
     },
     "execution_count": 18,
     "metadata": {},
     "output_type": "execute_result"
    }
   ],
   "source": [
    "County_land.head(67)"
   ]
  },
  {
   "cell_type": "markdown",
   "id": "ea231ebb",
   "metadata": {},
   "source": [
    "# Data Analysis #1\n",
    "My first attempt in trying to see if there is a correlation between the land area and growth rate of counties in Pennsylvania involves a scatter plot that uses the Land Area of counties on the x axis, and the Growth Rate of the counties on the Y axis. If my theoretical hypothesis is correct, I would assume that the scatter plot would show a convincing trend that has the growth rate going up along with the positive correlation with land area for the Counties. I have attempted this a few times and I have shown what I tried to do to fix it below:\n",
    "\n",
    "### Attempt 1\n",
    "ax1.scatter(County_land['Land Area'], County_population['GrowthRate']) <---- I tried changing this\n",
    "ax1.scatter(County_land(int['Land Area']), County_population(int['GrowthRate'])) <---- To this\n",
    "\n",
    "My thought process here was that the error message is telling me that the value needs to be in forms of str or bytes, not a float. This is why I tried to make it an integer.\n",
    "\n",
    "### Attempt 2\n",
    "I went directly into the CSV file associated with the Land Area key and got rid of the \" sq mi \" unit that went after every Land Area data piece\n",
    "\n",
    "### Attempt 3\n",
    "Tried looking up the error and I can not find anything to help. Final attempt was asking professor in class."
   ]
  },
  {
   "cell_type": "code",
   "execution_count": 30,
   "id": "b79c4286",
   "metadata": {},
   "outputs": [
    {
     "ename": "TypeError",
     "evalue": "'type' object is not subscriptable",
     "output_type": "error",
     "traceback": [
      "\u001b[0;31m---------------------------------------------------------------------------\u001b[0m",
      "\u001b[0;31mTypeError\u001b[0m                                 Traceback (most recent call last)",
      "\u001b[0;32m/var/folders/1y/5kc14hss2pjb8dz1_hd0ksb40000gn/T/ipykernel_19770/362286509.py\u001b[0m in \u001b[0;36m<module>\u001b[0;34m\u001b[0m\n\u001b[1;32m      1\u001b[0m \u001b[0mfig1\u001b[0m\u001b[0;34m,\u001b[0m \u001b[0max1\u001b[0m \u001b[0;34m=\u001b[0m \u001b[0mplt\u001b[0m\u001b[0;34m.\u001b[0m\u001b[0msubplots\u001b[0m\u001b[0;34m(\u001b[0m\u001b[0;36m1\u001b[0m\u001b[0;34m,\u001b[0m \u001b[0;36m1\u001b[0m\u001b[0;34m,\u001b[0m \u001b[0mfigsize\u001b[0m \u001b[0;34m=\u001b[0m \u001b[0;34m(\u001b[0m\u001b[0;36m10\u001b[0m\u001b[0;34m,\u001b[0m \u001b[0;36m10\u001b[0m\u001b[0;34m)\u001b[0m\u001b[0;34m)\u001b[0m\u001b[0;34m\u001b[0m\u001b[0;34m\u001b[0m\u001b[0m\n\u001b[0;32m----> 2\u001b[0;31m \u001b[0max1\u001b[0m\u001b[0;34m.\u001b[0m\u001b[0mscatter\u001b[0m\u001b[0;34m(\u001b[0m\u001b[0mCounty_land\u001b[0m\u001b[0;34m(\u001b[0m\u001b[0mstr\u001b[0m\u001b[0;34m[\u001b[0m\u001b[0;34m'Land Area'\u001b[0m\u001b[0;34m]\u001b[0m\u001b[0;34m)\u001b[0m\u001b[0;34m,\u001b[0m \u001b[0mCounty_population\u001b[0m\u001b[0;34m(\u001b[0m\u001b[0mstr\u001b[0m\u001b[0;34m[\u001b[0m\u001b[0;34m'GrowthRate'\u001b[0m\u001b[0;34m]\u001b[0m\u001b[0;34m)\u001b[0m\u001b[0;34m)\u001b[0m\u001b[0;34m\u001b[0m\u001b[0;34m\u001b[0m\u001b[0m\n\u001b[0m\u001b[1;32m      3\u001b[0m \u001b[0max1\u001b[0m\u001b[0;34m.\u001b[0m\u001b[0mset_xlabel\u001b[0m\u001b[0;34m(\u001b[0m\u001b[0;34m\"Land Area\"\u001b[0m\u001b[0;34m)\u001b[0m\u001b[0;34m\u001b[0m\u001b[0;34m\u001b[0m\u001b[0m\n\u001b[1;32m      4\u001b[0m \u001b[0max1\u001b[0m\u001b[0;34m.\u001b[0m\u001b[0mset_ylabel\u001b[0m\u001b[0;34m(\u001b[0m\u001b[0;34m\"GrowthRate\"\u001b[0m\u001b[0;34m)\u001b[0m\u001b[0;34m\u001b[0m\u001b[0;34m\u001b[0m\u001b[0m\n\u001b[1;32m      5\u001b[0m \u001b[0max1\u001b[0m\u001b[0;34m.\u001b[0m\u001b[0mset_title\u001b[0m\u001b[0;34m(\u001b[0m\u001b[0;34m\"The Land Area of Counties in PA Corresponds to the Growth Rate\"\u001b[0m\u001b[0;34m)\u001b[0m\u001b[0;34m\u001b[0m\u001b[0;34m\u001b[0m\u001b[0m\n",
      "\u001b[0;31mTypeError\u001b[0m: 'type' object is not subscriptable"
     ]
    },
    {
     "data": {
      "image/png": "[encoded data removed]",
      "text/plain": [
       "<Figure size 720x720 with 1 Axes>"
      ]
     },
     "metadata": {
      "needs_background": "light"
     },
     "output_type": "display_data"
    }
   ],
   "source": [
    "fig1, ax1 = plt.subplots(1, 1, figsize = (10, 10))\n",
    "ax1.scatter(County_land['Land Area'], County_population['GrowthRate'])\n",
    "ax1.set_xlabel(\"Land Area\")\n",
    "ax1.set_ylabel(\"GrowthRate\")\n",
    "ax1.set_title(\"The Land Area of Counties in PA Corresponds to the Growth Rate\")\n",
    "ax1.set_ylim(0, 1)\n",
    "ax1.set_xlim(0, 1)\n",
    "\n",
    "\n",
    "plt.show()"
   ]
  }
 ],
 "metadata": {
  "kernelspec": {
   "display_name": "Python 3 (ipykernel)",
   "language": "python",
   "name": "python3"
  },
  "language_info": {
   "codemirror_mode": {
    "name": "ipython",
    "version": 3
   },
   "file_extension": ".py",
   "mimetype": "text/x-python",
   "name": "python",
   "nbconvert_exporter": "python",
   "pygments_lexer": "ipython3",
   "version": "3.9.6"
  }
 },
 "nbformat": 4,
 "nbformat_minor": 5
}
